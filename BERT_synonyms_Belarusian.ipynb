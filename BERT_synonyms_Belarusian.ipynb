{
  "nbformat": 4,
  "nbformat_minor": 0,
  "metadata": {
    "colab": {
      "provenance": [],
      "gpuType": "T4",
      "authorship_tag": "ABX9TyNg7jOhLkB743h9IhDcxUDH"
    },
    "kernelspec": {
      "name": "python3",
      "display_name": "Python 3"
    },
    "language_info": {
      "name": "python"
    },
    "widgets": {
      "application/vnd.jupyter.widget-state+json": {
        "eacfe649ea1b4f33b92c96322791c62b": {
          "model_module": "@jupyter-widgets/controls",
          "model_name": "HBoxModel",
          "model_module_version": "1.5.0",
          "state": {
            "_dom_classes": [],
            "_model_module": "@jupyter-widgets/controls",
            "_model_module_version": "1.5.0",
            "_model_name": "HBoxModel",
            "_view_count": null,
            "_view_module": "@jupyter-widgets/controls",
            "_view_module_version": "1.5.0",
            "_view_name": "HBoxView",
            "box_style": "",
            "children": [
              "IPY_MODEL_f090405c72474d7fbdcba706d20ba904",
              "IPY_MODEL_db8bce5bddd04dc7b41439ce2c6b3081",
              "IPY_MODEL_e0fd4a1277ef4923ae642ade1fae7e31"
            ],
            "layout": "IPY_MODEL_78fd251c5ccd41c19966fd3c4d358c79"
          }
        },
        "f090405c72474d7fbdcba706d20ba904": {
          "model_module": "@jupyter-widgets/controls",
          "model_name": "HTMLModel",
          "model_module_version": "1.5.0",
          "state": {
            "_dom_classes": [],
            "_model_module": "@jupyter-widgets/controls",
            "_model_module_version": "1.5.0",
            "_model_name": "HTMLModel",
            "_view_count": null,
            "_view_module": "@jupyter-widgets/controls",
            "_view_module_version": "1.5.0",
            "_view_name": "HTMLView",
            "description": "",
            "description_tooltip": null,
            "layout": "IPY_MODEL_825e6151e1fa4518bb3ea21927f97a2f",
            "placeholder": "​",
            "style": "IPY_MODEL_422b346a6a4a4ec5affa7b4bbe24ff35",
            "value": "Downloading https://raw.githubusercontent.com/stanfordnlp/stanza-resources/main/resources_1.10.0.json: "
          }
        },
        "db8bce5bddd04dc7b41439ce2c6b3081": {
          "model_module": "@jupyter-widgets/controls",
          "model_name": "FloatProgressModel",
          "model_module_version": "1.5.0",
          "state": {
            "_dom_classes": [],
            "_model_module": "@jupyter-widgets/controls",
            "_model_module_version": "1.5.0",
            "_model_name": "FloatProgressModel",
            "_view_count": null,
            "_view_module": "@jupyter-widgets/controls",
            "_view_module_version": "1.5.0",
            "_view_name": "ProgressView",
            "bar_style": "success",
            "description": "",
            "description_tooltip": null,
            "layout": "IPY_MODEL_27219fa70ebe4baba48d9814b42792e8",
            "max": 52559,
            "min": 0,
            "orientation": "horizontal",
            "style": "IPY_MODEL_20fcff103fd94659913ca0b403ef2f0a",
            "value": 52559
          }
        },
        "e0fd4a1277ef4923ae642ade1fae7e31": {
          "model_module": "@jupyter-widgets/controls",
          "model_name": "HTMLModel",
          "model_module_version": "1.5.0",
          "state": {
            "_dom_classes": [],
            "_model_module": "@jupyter-widgets/controls",
            "_model_module_version": "1.5.0",
            "_model_name": "HTMLModel",
            "_view_count": null,
            "_view_module": "@jupyter-widgets/controls",
            "_view_module_version": "1.5.0",
            "_view_name": "HTMLView",
            "description": "",
            "description_tooltip": null,
            "layout": "IPY_MODEL_f26672e21be74e49a4d19f64fec903ae",
            "placeholder": "​",
            "style": "IPY_MODEL_d41e4b4df488444cb7fb7216585bffe9",
            "value": " 424k/? [00:00&lt;00:00, 9.83MB/s]"
          }
        },
        "78fd251c5ccd41c19966fd3c4d358c79": {
          "model_module": "@jupyter-widgets/base",
          "model_name": "LayoutModel",
          "model_module_version": "1.2.0",
          "state": {
            "_model_module": "@jupyter-widgets/base",
            "_model_module_version": "1.2.0",
            "_model_name": "LayoutModel",
            "_view_count": null,
            "_view_module": "@jupyter-widgets/base",
            "_view_module_version": "1.2.0",
            "_view_name": "LayoutView",
            "align_content": null,
            "align_items": null,
            "align_self": null,
            "border": null,
            "bottom": null,
            "display": null,
            "flex": null,
            "flex_flow": null,
            "grid_area": null,
            "grid_auto_columns": null,
            "grid_auto_flow": null,
            "grid_auto_rows": null,
            "grid_column": null,
            "grid_gap": null,
            "grid_row": null,
            "grid_template_areas": null,
            "grid_template_columns": null,
            "grid_template_rows": null,
            "height": null,
            "justify_content": null,
            "justify_items": null,
            "left": null,
            "margin": null,
            "max_height": null,
            "max_width": null,
            "min_height": null,
            "min_width": null,
            "object_fit": null,
            "object_position": null,
            "order": null,
            "overflow": null,
            "overflow_x": null,
            "overflow_y": null,
            "padding": null,
            "right": null,
            "top": null,
            "visibility": null,
            "width": null
          }
        },
        "825e6151e1fa4518bb3ea21927f97a2f": {
          "model_module": "@jupyter-widgets/base",
          "model_name": "LayoutModel",
          "model_module_version": "1.2.0",
          "state": {
            "_model_module": "@jupyter-widgets/base",
            "_model_module_version": "1.2.0",
            "_model_name": "LayoutModel",
            "_view_count": null,
            "_view_module": "@jupyter-widgets/base",
            "_view_module_version": "1.2.0",
            "_view_name": "LayoutView",
            "align_content": null,
            "align_items": null,
            "align_self": null,
            "border": null,
            "bottom": null,
            "display": null,
            "flex": null,
            "flex_flow": null,
            "grid_area": null,
            "grid_auto_columns": null,
            "grid_auto_flow": null,
            "grid_auto_rows": null,
            "grid_column": null,
            "grid_gap": null,
            "grid_row": null,
            "grid_template_areas": null,
            "grid_template_columns": null,
            "grid_template_rows": null,
            "height": null,
            "justify_content": null,
            "justify_items": null,
            "left": null,
            "margin": null,
            "max_height": null,
            "max_width": null,
            "min_height": null,
            "min_width": null,
            "object_fit": null,
            "object_position": null,
            "order": null,
            "overflow": null,
            "overflow_x": null,
            "overflow_y": null,
            "padding": null,
            "right": null,
            "top": null,
            "visibility": null,
            "width": null
          }
        },
        "422b346a6a4a4ec5affa7b4bbe24ff35": {
          "model_module": "@jupyter-widgets/controls",
          "model_name": "DescriptionStyleModel",
          "model_module_version": "1.5.0",
          "state": {
            "_model_module": "@jupyter-widgets/controls",
            "_model_module_version": "1.5.0",
            "_model_name": "DescriptionStyleModel",
            "_view_count": null,
            "_view_module": "@jupyter-widgets/base",
            "_view_module_version": "1.2.0",
            "_view_name": "StyleView",
            "description_width": ""
          }
        },
        "27219fa70ebe4baba48d9814b42792e8": {
          "model_module": "@jupyter-widgets/base",
          "model_name": "LayoutModel",
          "model_module_version": "1.2.0",
          "state": {
            "_model_module": "@jupyter-widgets/base",
            "_model_module_version": "1.2.0",
            "_model_name": "LayoutModel",
            "_view_count": null,
            "_view_module": "@jupyter-widgets/base",
            "_view_module_version": "1.2.0",
            "_view_name": "LayoutView",
            "align_content": null,
            "align_items": null,
            "align_self": null,
            "border": null,
            "bottom": null,
            "display": null,
            "flex": null,
            "flex_flow": null,
            "grid_area": null,
            "grid_auto_columns": null,
            "grid_auto_flow": null,
            "grid_auto_rows": null,
            "grid_column": null,
            "grid_gap": null,
            "grid_row": null,
            "grid_template_areas": null,
            "grid_template_columns": null,
            "grid_template_rows": null,
            "height": null,
            "justify_content": null,
            "justify_items": null,
            "left": null,
            "margin": null,
            "max_height": null,
            "max_width": null,
            "min_height": null,
            "min_width": null,
            "object_fit": null,
            "object_position": null,
            "order": null,
            "overflow": null,
            "overflow_x": null,
            "overflow_y": null,
            "padding": null,
            "right": null,
            "top": null,
            "visibility": null,
            "width": null
          }
        },
        "20fcff103fd94659913ca0b403ef2f0a": {
          "model_module": "@jupyter-widgets/controls",
          "model_name": "ProgressStyleModel",
          "model_module_version": "1.5.0",
          "state": {
            "_model_module": "@jupyter-widgets/controls",
            "_model_module_version": "1.5.0",
            "_model_name": "ProgressStyleModel",
            "_view_count": null,
            "_view_module": "@jupyter-widgets/base",
            "_view_module_version": "1.2.0",
            "_view_name": "StyleView",
            "bar_color": null,
            "description_width": ""
          }
        },
        "f26672e21be74e49a4d19f64fec903ae": {
          "model_module": "@jupyter-widgets/base",
          "model_name": "LayoutModel",
          "model_module_version": "1.2.0",
          "state": {
            "_model_module": "@jupyter-widgets/base",
            "_model_module_version": "1.2.0",
            "_model_name": "LayoutModel",
            "_view_count": null,
            "_view_module": "@jupyter-widgets/base",
            "_view_module_version": "1.2.0",
            "_view_name": "LayoutView",
            "align_content": null,
            "align_items": null,
            "align_self": null,
            "border": null,
            "bottom": null,
            "display": null,
            "flex": null,
            "flex_flow": null,
            "grid_area": null,
            "grid_auto_columns": null,
            "grid_auto_flow": null,
            "grid_auto_rows": null,
            "grid_column": null,
            "grid_gap": null,
            "grid_row": null,
            "grid_template_areas": null,
            "grid_template_columns": null,
            "grid_template_rows": null,
            "height": null,
            "justify_content": null,
            "justify_items": null,
            "left": null,
            "margin": null,
            "max_height": null,
            "max_width": null,
            "min_height": null,
            "min_width": null,
            "object_fit": null,
            "object_position": null,
            "order": null,
            "overflow": null,
            "overflow_x": null,
            "overflow_y": null,
            "padding": null,
            "right": null,
            "top": null,
            "visibility": null,
            "width": null
          }
        },
        "d41e4b4df488444cb7fb7216585bffe9": {
          "model_module": "@jupyter-widgets/controls",
          "model_name": "DescriptionStyleModel",
          "model_module_version": "1.5.0",
          "state": {
            "_model_module": "@jupyter-widgets/controls",
            "_model_module_version": "1.5.0",
            "_model_name": "DescriptionStyleModel",
            "_view_count": null,
            "_view_module": "@jupyter-widgets/base",
            "_view_module_version": "1.2.0",
            "_view_name": "StyleView",
            "description_width": ""
          }
        },
        "7bab1e2f31dd4d9fbcfdd0959e65e2bd": {
          "model_module": "@jupyter-widgets/controls",
          "model_name": "HBoxModel",
          "model_module_version": "1.5.0",
          "state": {
            "_dom_classes": [],
            "_model_module": "@jupyter-widgets/controls",
            "_model_module_version": "1.5.0",
            "_model_name": "HBoxModel",
            "_view_count": null,
            "_view_module": "@jupyter-widgets/controls",
            "_view_module_version": "1.5.0",
            "_view_name": "HBoxView",
            "box_style": "",
            "children": [
              "IPY_MODEL_f1a147d725b54f6ea337927a5fcd7ae1",
              "IPY_MODEL_e3500ba3a7f541178ef95d1740ad3f5f",
              "IPY_MODEL_4bd6f420ef4f4d398a3584563b1512f7"
            ],
            "layout": "IPY_MODEL_b8363e66298547b08bbf4297189d47d3"
          }
        },
        "f1a147d725b54f6ea337927a5fcd7ae1": {
          "model_module": "@jupyter-widgets/controls",
          "model_name": "HTMLModel",
          "model_module_version": "1.5.0",
          "state": {
            "_dom_classes": [],
            "_model_module": "@jupyter-widgets/controls",
            "_model_module_version": "1.5.0",
            "_model_name": "HTMLModel",
            "_view_count": null,
            "_view_module": "@jupyter-widgets/controls",
            "_view_module_version": "1.5.0",
            "_view_name": "HTMLView",
            "description": "",
            "description_tooltip": null,
            "layout": "IPY_MODEL_1d0b626b755e4f18a052049f3847d9c5",
            "placeholder": "​",
            "style": "IPY_MODEL_f41ffe138bee45f298fb102344ff336d",
            "value": "Downloading https://huggingface.co/stanfordnlp/stanza-be/resolve/v1.10.0/models/tokenize/hse.pt: 100%"
          }
        },
        "e3500ba3a7f541178ef95d1740ad3f5f": {
          "model_module": "@jupyter-widgets/controls",
          "model_name": "FloatProgressModel",
          "model_module_version": "1.5.0",
          "state": {
            "_dom_classes": [],
            "_model_module": "@jupyter-widgets/controls",
            "_model_module_version": "1.5.0",
            "_model_name": "FloatProgressModel",
            "_view_count": null,
            "_view_module": "@jupyter-widgets/controls",
            "_view_module_version": "1.5.0",
            "_view_name": "ProgressView",
            "bar_style": "success",
            "description": "",
            "description_tooltip": null,
            "layout": "IPY_MODEL_594ce71123654afe9a78a068b2cb7797",
            "max": 704464,
            "min": 0,
            "orientation": "horizontal",
            "style": "IPY_MODEL_9c3f73d4585a4e75827af6cd1a7f6a76",
            "value": 704464
          }
        },
        "4bd6f420ef4f4d398a3584563b1512f7": {
          "model_module": "@jupyter-widgets/controls",
          "model_name": "HTMLModel",
          "model_module_version": "1.5.0",
          "state": {
            "_dom_classes": [],
            "_model_module": "@jupyter-widgets/controls",
            "_model_module_version": "1.5.0",
            "_model_name": "HTMLModel",
            "_view_count": null,
            "_view_module": "@jupyter-widgets/controls",
            "_view_module_version": "1.5.0",
            "_view_name": "HTMLView",
            "description": "",
            "description_tooltip": null,
            "layout": "IPY_MODEL_a7c8eefbb7994215879639b989e15d47",
            "placeholder": "​",
            "style": "IPY_MODEL_8cd8ea5500e64c5d83df9dfa904a1921",
            "value": " 704k/704k [00:00&lt;00:00, 16.8MB/s]"
          }
        },
        "b8363e66298547b08bbf4297189d47d3": {
          "model_module": "@jupyter-widgets/base",
          "model_name": "LayoutModel",
          "model_module_version": "1.2.0",
          "state": {
            "_model_module": "@jupyter-widgets/base",
            "_model_module_version": "1.2.0",
            "_model_name": "LayoutModel",
            "_view_count": null,
            "_view_module": "@jupyter-widgets/base",
            "_view_module_version": "1.2.0",
            "_view_name": "LayoutView",
            "align_content": null,
            "align_items": null,
            "align_self": null,
            "border": null,
            "bottom": null,
            "display": null,
            "flex": null,
            "flex_flow": null,
            "grid_area": null,
            "grid_auto_columns": null,
            "grid_auto_flow": null,
            "grid_auto_rows": null,
            "grid_column": null,
            "grid_gap": null,
            "grid_row": null,
            "grid_template_areas": null,
            "grid_template_columns": null,
            "grid_template_rows": null,
            "height": null,
            "justify_content": null,
            "justify_items": null,
            "left": null,
            "margin": null,
            "max_height": null,
            "max_width": null,
            "min_height": null,
            "min_width": null,
            "object_fit": null,
            "object_position": null,
            "order": null,
            "overflow": null,
            "overflow_x": null,
            "overflow_y": null,
            "padding": null,
            "right": null,
            "top": null,
            "visibility": null,
            "width": null
          }
        },
        "1d0b626b755e4f18a052049f3847d9c5": {
          "model_module": "@jupyter-widgets/base",
          "model_name": "LayoutModel",
          "model_module_version": "1.2.0",
          "state": {
            "_model_module": "@jupyter-widgets/base",
            "_model_module_version": "1.2.0",
            "_model_name": "LayoutModel",
            "_view_count": null,
            "_view_module": "@jupyter-widgets/base",
            "_view_module_version": "1.2.0",
            "_view_name": "LayoutView",
            "align_content": null,
            "align_items": null,
            "align_self": null,
            "border": null,
            "bottom": null,
            "display": null,
            "flex": null,
            "flex_flow": null,
            "grid_area": null,
            "grid_auto_columns": null,
            "grid_auto_flow": null,
            "grid_auto_rows": null,
            "grid_column": null,
            "grid_gap": null,
            "grid_row": null,
            "grid_template_areas": null,
            "grid_template_columns": null,
            "grid_template_rows": null,
            "height": null,
            "justify_content": null,
            "justify_items": null,
            "left": null,
            "margin": null,
            "max_height": null,
            "max_width": null,
            "min_height": null,
            "min_width": null,
            "object_fit": null,
            "object_position": null,
            "order": null,
            "overflow": null,
            "overflow_x": null,
            "overflow_y": null,
            "padding": null,
            "right": null,
            "top": null,
            "visibility": null,
            "width": null
          }
        },
        "f41ffe138bee45f298fb102344ff336d": {
          "model_module": "@jupyter-widgets/controls",
          "model_name": "DescriptionStyleModel",
          "model_module_version": "1.5.0",
          "state": {
            "_model_module": "@jupyter-widgets/controls",
            "_model_module_version": "1.5.0",
            "_model_name": "DescriptionStyleModel",
            "_view_count": null,
            "_view_module": "@jupyter-widgets/base",
            "_view_module_version": "1.2.0",
            "_view_name": "StyleView",
            "description_width": ""
          }
        },
        "594ce71123654afe9a78a068b2cb7797": {
          "model_module": "@jupyter-widgets/base",
          "model_name": "LayoutModel",
          "model_module_version": "1.2.0",
          "state": {
            "_model_module": "@jupyter-widgets/base",
            "_model_module_version": "1.2.0",
            "_model_name": "LayoutModel",
            "_view_count": null,
            "_view_module": "@jupyter-widgets/base",
            "_view_module_version": "1.2.0",
            "_view_name": "LayoutView",
            "align_content": null,
            "align_items": null,
            "align_self": null,
            "border": null,
            "bottom": null,
            "display": null,
            "flex": null,
            "flex_flow": null,
            "grid_area": null,
            "grid_auto_columns": null,
            "grid_auto_flow": null,
            "grid_auto_rows": null,
            "grid_column": null,
            "grid_gap": null,
            "grid_row": null,
            "grid_template_areas": null,
            "grid_template_columns": null,
            "grid_template_rows": null,
            "height": null,
            "justify_content": null,
            "justify_items": null,
            "left": null,
            "margin": null,
            "max_height": null,
            "max_width": null,
            "min_height": null,
            "min_width": null,
            "object_fit": null,
            "object_position": null,
            "order": null,
            "overflow": null,
            "overflow_x": null,
            "overflow_y": null,
            "padding": null,
            "right": null,
            "top": null,
            "visibility": null,
            "width": null
          }
        },
        "9c3f73d4585a4e75827af6cd1a7f6a76": {
          "model_module": "@jupyter-widgets/controls",
          "model_name": "ProgressStyleModel",
          "model_module_version": "1.5.0",
          "state": {
            "_model_module": "@jupyter-widgets/controls",
            "_model_module_version": "1.5.0",
            "_model_name": "ProgressStyleModel",
            "_view_count": null,
            "_view_module": "@jupyter-widgets/base",
            "_view_module_version": "1.2.0",
            "_view_name": "StyleView",
            "bar_color": null,
            "description_width": ""
          }
        },
        "a7c8eefbb7994215879639b989e15d47": {
          "model_module": "@jupyter-widgets/base",
          "model_name": "LayoutModel",
          "model_module_version": "1.2.0",
          "state": {
            "_model_module": "@jupyter-widgets/base",
            "_model_module_version": "1.2.0",
            "_model_name": "LayoutModel",
            "_view_count": null,
            "_view_module": "@jupyter-widgets/base",
            "_view_module_version": "1.2.0",
            "_view_name": "LayoutView",
            "align_content": null,
            "align_items": null,
            "align_self": null,
            "border": null,
            "bottom": null,
            "display": null,
            "flex": null,
            "flex_flow": null,
            "grid_area": null,
            "grid_auto_columns": null,
            "grid_auto_flow": null,
            "grid_auto_rows": null,
            "grid_column": null,
            "grid_gap": null,
            "grid_row": null,
            "grid_template_areas": null,
            "grid_template_columns": null,
            "grid_template_rows": null,
            "height": null,
            "justify_content": null,
            "justify_items": null,
            "left": null,
            "margin": null,
            "max_height": null,
            "max_width": null,
            "min_height": null,
            "min_width": null,
            "object_fit": null,
            "object_position": null,
            "order": null,
            "overflow": null,
            "overflow_x": null,
            "overflow_y": null,
            "padding": null,
            "right": null,
            "top": null,
            "visibility": null,
            "width": null
          }
        },
        "8cd8ea5500e64c5d83df9dfa904a1921": {
          "model_module": "@jupyter-widgets/controls",
          "model_name": "DescriptionStyleModel",
          "model_module_version": "1.5.0",
          "state": {
            "_model_module": "@jupyter-widgets/controls",
            "_model_module_version": "1.5.0",
            "_model_name": "DescriptionStyleModel",
            "_view_count": null,
            "_view_module": "@jupyter-widgets/base",
            "_view_module_version": "1.2.0",
            "_view_name": "StyleView",
            "description_width": ""
          }
        },
        "1d5d243ff8694d41813df75d3a44a028": {
          "model_module": "@jupyter-widgets/controls",
          "model_name": "HBoxModel",
          "model_module_version": "1.5.0",
          "state": {
            "_dom_classes": [],
            "_model_module": "@jupyter-widgets/controls",
            "_model_module_version": "1.5.0",
            "_model_name": "HBoxModel",
            "_view_count": null,
            "_view_module": "@jupyter-widgets/controls",
            "_view_module_version": "1.5.0",
            "_view_name": "HBoxView",
            "box_style": "",
            "children": [
              "IPY_MODEL_f9fd512925ca41b68ecbdf125c62f0ed",
              "IPY_MODEL_1ddbcd5b8c05497eb929d22afd6412cc",
              "IPY_MODEL_bfcbfecd49434b469cf24978a42bd403"
            ],
            "layout": "IPY_MODEL_dbf67954105a4db4bffebf43d96e856e"
          }
        },
        "f9fd512925ca41b68ecbdf125c62f0ed": {
          "model_module": "@jupyter-widgets/controls",
          "model_name": "HTMLModel",
          "model_module_version": "1.5.0",
          "state": {
            "_dom_classes": [],
            "_model_module": "@jupyter-widgets/controls",
            "_model_module_version": "1.5.0",
            "_model_name": "HTMLModel",
            "_view_count": null,
            "_view_module": "@jupyter-widgets/controls",
            "_view_module_version": "1.5.0",
            "_view_name": "HTMLView",
            "description": "",
            "description_tooltip": null,
            "layout": "IPY_MODEL_2dec44520bce45ceaf472254a7d05de5",
            "placeholder": "​",
            "style": "IPY_MODEL_434acf0ee40647f09637f120a89fb516",
            "value": "Downloading https://huggingface.co/stanfordnlp/stanza-be/resolve/v1.10.0/models/pos/hse_nocharlm.pt: 100%"
          }
        },
        "1ddbcd5b8c05497eb929d22afd6412cc": {
          "model_module": "@jupyter-widgets/controls",
          "model_name": "FloatProgressModel",
          "model_module_version": "1.5.0",
          "state": {
            "_dom_classes": [],
            "_model_module": "@jupyter-widgets/controls",
            "_model_module_version": "1.5.0",
            "_model_name": "FloatProgressModel",
            "_view_count": null,
            "_view_module": "@jupyter-widgets/controls",
            "_view_module_version": "1.5.0",
            "_view_name": "ProgressView",
            "bar_style": "success",
            "description": "",
            "description_tooltip": null,
            "layout": "IPY_MODEL_74db2e157202488caf000d29414ae26d",
            "max": 23216855,
            "min": 0,
            "orientation": "horizontal",
            "style": "IPY_MODEL_73ccd288e0e34e6982e4ac937ef1d516",
            "value": 23216855
          }
        },
        "bfcbfecd49434b469cf24978a42bd403": {
          "model_module": "@jupyter-widgets/controls",
          "model_name": "HTMLModel",
          "model_module_version": "1.5.0",
          "state": {
            "_dom_classes": [],
            "_model_module": "@jupyter-widgets/controls",
            "_model_module_version": "1.5.0",
            "_model_name": "HTMLModel",
            "_view_count": null,
            "_view_module": "@jupyter-widgets/controls",
            "_view_module_version": "1.5.0",
            "_view_name": "HTMLView",
            "description": "",
            "description_tooltip": null,
            "layout": "IPY_MODEL_aeea7a937bcf41e09ee0effddec2b557",
            "placeholder": "​",
            "style": "IPY_MODEL_1bbcabb8f92b42a29496e83f079796db",
            "value": " 23.2M/23.2M [00:00&lt;00:00, 100MB/s]"
          }
        },
        "dbf67954105a4db4bffebf43d96e856e": {
          "model_module": "@jupyter-widgets/base",
          "model_name": "LayoutModel",
          "model_module_version": "1.2.0",
          "state": {
            "_model_module": "@jupyter-widgets/base",
            "_model_module_version": "1.2.0",
            "_model_name": "LayoutModel",
            "_view_count": null,
            "_view_module": "@jupyter-widgets/base",
            "_view_module_version": "1.2.0",
            "_view_name": "LayoutView",
            "align_content": null,
            "align_items": null,
            "align_self": null,
            "border": null,
            "bottom": null,
            "display": null,
            "flex": null,
            "flex_flow": null,
            "grid_area": null,
            "grid_auto_columns": null,
            "grid_auto_flow": null,
            "grid_auto_rows": null,
            "grid_column": null,
            "grid_gap": null,
            "grid_row": null,
            "grid_template_areas": null,
            "grid_template_columns": null,
            "grid_template_rows": null,
            "height": null,
            "justify_content": null,
            "justify_items": null,
            "left": null,
            "margin": null,
            "max_height": null,
            "max_width": null,
            "min_height": null,
            "min_width": null,
            "object_fit": null,
            "object_position": null,
            "order": null,
            "overflow": null,
            "overflow_x": null,
            "overflow_y": null,
            "padding": null,
            "right": null,
            "top": null,
            "visibility": null,
            "width": null
          }
        },
        "2dec44520bce45ceaf472254a7d05de5": {
          "model_module": "@jupyter-widgets/base",
          "model_name": "LayoutModel",
          "model_module_version": "1.2.0",
          "state": {
            "_model_module": "@jupyter-widgets/base",
            "_model_module_version": "1.2.0",
            "_model_name": "LayoutModel",
            "_view_count": null,
            "_view_module": "@jupyter-widgets/base",
            "_view_module_version": "1.2.0",
            "_view_name": "LayoutView",
            "align_content": null,
            "align_items": null,
            "align_self": null,
            "border": null,
            "bottom": null,
            "display": null,
            "flex": null,
            "flex_flow": null,
            "grid_area": null,
            "grid_auto_columns": null,
            "grid_auto_flow": null,
            "grid_auto_rows": null,
            "grid_column": null,
            "grid_gap": null,
            "grid_row": null,
            "grid_template_areas": null,
            "grid_template_columns": null,
            "grid_template_rows": null,
            "height": null,
            "justify_content": null,
            "justify_items": null,
            "left": null,
            "margin": null,
            "max_height": null,
            "max_width": null,
            "min_height": null,
            "min_width": null,
            "object_fit": null,
            "object_position": null,
            "order": null,
            "overflow": null,
            "overflow_x": null,
            "overflow_y": null,
            "padding": null,
            "right": null,
            "top": null,
            "visibility": null,
            "width": null
          }
        },
        "434acf0ee40647f09637f120a89fb516": {
          "model_module": "@jupyter-widgets/controls",
          "model_name": "DescriptionStyleModel",
          "model_module_version": "1.5.0",
          "state": {
            "_model_module": "@jupyter-widgets/controls",
            "_model_module_version": "1.5.0",
            "_model_name": "DescriptionStyleModel",
            "_view_count": null,
            "_view_module": "@jupyter-widgets/base",
            "_view_module_version": "1.2.0",
            "_view_name": "StyleView",
            "description_width": ""
          }
        },
        "74db2e157202488caf000d29414ae26d": {
          "model_module": "@jupyter-widgets/base",
          "model_name": "LayoutModel",
          "model_module_version": "1.2.0",
          "state": {
            "_model_module": "@jupyter-widgets/base",
            "_model_module_version": "1.2.0",
            "_model_name": "LayoutModel",
            "_view_count": null,
            "_view_module": "@jupyter-widgets/base",
            "_view_module_version": "1.2.0",
            "_view_name": "LayoutView",
            "align_content": null,
            "align_items": null,
            "align_self": null,
            "border": null,
            "bottom": null,
            "display": null,
            "flex": null,
            "flex_flow": null,
            "grid_area": null,
            "grid_auto_columns": null,
            "grid_auto_flow": null,
            "grid_auto_rows": null,
            "grid_column": null,
            "grid_gap": null,
            "grid_row": null,
            "grid_template_areas": null,
            "grid_template_columns": null,
            "grid_template_rows": null,
            "height": null,
            "justify_content": null,
            "justify_items": null,
            "left": null,
            "margin": null,
            "max_height": null,
            "max_width": null,
            "min_height": null,
            "min_width": null,
            "object_fit": null,
            "object_position": null,
            "order": null,
            "overflow": null,
            "overflow_x": null,
            "overflow_y": null,
            "padding": null,
            "right": null,
            "top": null,
            "visibility": null,
            "width": null
          }
        },
        "73ccd288e0e34e6982e4ac937ef1d516": {
          "model_module": "@jupyter-widgets/controls",
          "model_name": "ProgressStyleModel",
          "model_module_version": "1.5.0",
          "state": {
            "_model_module": "@jupyter-widgets/controls",
            "_model_module_version": "1.5.0",
            "_model_name": "ProgressStyleModel",
            "_view_count": null,
            "_view_module": "@jupyter-widgets/base",
            "_view_module_version": "1.2.0",
            "_view_name": "StyleView",
            "bar_color": null,
            "description_width": ""
          }
        },
        "aeea7a937bcf41e09ee0effddec2b557": {
          "model_module": "@jupyter-widgets/base",
          "model_name": "LayoutModel",
          "model_module_version": "1.2.0",
          "state": {
            "_model_module": "@jupyter-widgets/base",
            "_model_module_version": "1.2.0",
            "_model_name": "LayoutModel",
            "_view_count": null,
            "_view_module": "@jupyter-widgets/base",
            "_view_module_version": "1.2.0",
            "_view_name": "LayoutView",
            "align_content": null,
            "align_items": null,
            "align_self": null,
            "border": null,
            "bottom": null,
            "display": null,
            "flex": null,
            "flex_flow": null,
            "grid_area": null,
            "grid_auto_columns": null,
            "grid_auto_flow": null,
            "grid_auto_rows": null,
            "grid_column": null,
            "grid_gap": null,
            "grid_row": null,
            "grid_template_areas": null,
            "grid_template_columns": null,
            "grid_template_rows": null,
            "height": null,
            "justify_content": null,
            "justify_items": null,
            "left": null,
            "margin": null,
            "max_height": null,
            "max_width": null,
            "min_height": null,
            "min_width": null,
            "object_fit": null,
            "object_position": null,
            "order": null,
            "overflow": null,
            "overflow_x": null,
            "overflow_y": null,
            "padding": null,
            "right": null,
            "top": null,
            "visibility": null,
            "width": null
          }
        },
        "1bbcabb8f92b42a29496e83f079796db": {
          "model_module": "@jupyter-widgets/controls",
          "model_name": "DescriptionStyleModel",
          "model_module_version": "1.5.0",
          "state": {
            "_model_module": "@jupyter-widgets/controls",
            "_model_module_version": "1.5.0",
            "_model_name": "DescriptionStyleModel",
            "_view_count": null,
            "_view_module": "@jupyter-widgets/base",
            "_view_module_version": "1.2.0",
            "_view_name": "StyleView",
            "description_width": ""
          }
        },
        "bd25c7a7a7394b2cb1da9e64554741d6": {
          "model_module": "@jupyter-widgets/controls",
          "model_name": "HBoxModel",
          "model_module_version": "1.5.0",
          "state": {
            "_dom_classes": [],
            "_model_module": "@jupyter-widgets/controls",
            "_model_module_version": "1.5.0",
            "_model_name": "HBoxModel",
            "_view_count": null,
            "_view_module": "@jupyter-widgets/controls",
            "_view_module_version": "1.5.0",
            "_view_name": "HBoxView",
            "box_style": "",
            "children": [
              "IPY_MODEL_457920a9be6a46e9a25570b0f71841e9",
              "IPY_MODEL_2360698e520940dd9c55b96ccc98fff8",
              "IPY_MODEL_b8c7d26c43f648ab962c039a55cdeb2f"
            ],
            "layout": "IPY_MODEL_7d54d164ffe94e42a26b85c19e062539"
          }
        },
        "457920a9be6a46e9a25570b0f71841e9": {
          "model_module": "@jupyter-widgets/controls",
          "model_name": "HTMLModel",
          "model_module_version": "1.5.0",
          "state": {
            "_dom_classes": [],
            "_model_module": "@jupyter-widgets/controls",
            "_model_module_version": "1.5.0",
            "_model_name": "HTMLModel",
            "_view_count": null,
            "_view_module": "@jupyter-widgets/controls",
            "_view_module_version": "1.5.0",
            "_view_name": "HTMLView",
            "description": "",
            "description_tooltip": null,
            "layout": "IPY_MODEL_8742ff6fbd2c47c3b9504f4572bbf610",
            "placeholder": "​",
            "style": "IPY_MODEL_365b7f6976354427b5f6520d3443947d",
            "value": "Downloading https://huggingface.co/stanfordnlp/stanza-be/resolve/v1.10.0/models/lemma/hse_nocharlm.pt: 100%"
          }
        },
        "2360698e520940dd9c55b96ccc98fff8": {
          "model_module": "@jupyter-widgets/controls",
          "model_name": "FloatProgressModel",
          "model_module_version": "1.5.0",
          "state": {
            "_dom_classes": [],
            "_model_module": "@jupyter-widgets/controls",
            "_model_module_version": "1.5.0",
            "_model_name": "FloatProgressModel",
            "_view_count": null,
            "_view_module": "@jupyter-widgets/controls",
            "_view_module_version": "1.5.0",
            "_view_name": "ProgressView",
            "bar_style": "success",
            "description": "",
            "description_tooltip": null,
            "layout": "IPY_MODEL_870315a397e9434f8b44d593ad2d4948",
            "max": 6912221,
            "min": 0,
            "orientation": "horizontal",
            "style": "IPY_MODEL_649609693dea4d159ae5c2dab2fc51eb",
            "value": 6912221
          }
        },
        "b8c7d26c43f648ab962c039a55cdeb2f": {
          "model_module": "@jupyter-widgets/controls",
          "model_name": "HTMLModel",
          "model_module_version": "1.5.0",
          "state": {
            "_dom_classes": [],
            "_model_module": "@jupyter-widgets/controls",
            "_model_module_version": "1.5.0",
            "_model_name": "HTMLModel",
            "_view_count": null,
            "_view_module": "@jupyter-widgets/controls",
            "_view_module_version": "1.5.0",
            "_view_name": "HTMLView",
            "description": "",
            "description_tooltip": null,
            "layout": "IPY_MODEL_47199374a1da4ba0bb067babc6a7dc4c",
            "placeholder": "​",
            "style": "IPY_MODEL_596dec52151041f29e236762f3155f49",
            "value": " 6.91M/6.91M [00:00&lt;00:00, 116MB/s]"
          }
        },
        "7d54d164ffe94e42a26b85c19e062539": {
          "model_module": "@jupyter-widgets/base",
          "model_name": "LayoutModel",
          "model_module_version": "1.2.0",
          "state": {
            "_model_module": "@jupyter-widgets/base",
            "_model_module_version": "1.2.0",
            "_model_name": "LayoutModel",
            "_view_count": null,
            "_view_module": "@jupyter-widgets/base",
            "_view_module_version": "1.2.0",
            "_view_name": "LayoutView",
            "align_content": null,
            "align_items": null,
            "align_self": null,
            "border": null,
            "bottom": null,
            "display": null,
            "flex": null,
            "flex_flow": null,
            "grid_area": null,
            "grid_auto_columns": null,
            "grid_auto_flow": null,
            "grid_auto_rows": null,
            "grid_column": null,
            "grid_gap": null,
            "grid_row": null,
            "grid_template_areas": null,
            "grid_template_columns": null,
            "grid_template_rows": null,
            "height": null,
            "justify_content": null,
            "justify_items": null,
            "left": null,
            "margin": null,
            "max_height": null,
            "max_width": null,
            "min_height": null,
            "min_width": null,
            "object_fit": null,
            "object_position": null,
            "order": null,
            "overflow": null,
            "overflow_x": null,
            "overflow_y": null,
            "padding": null,
            "right": null,
            "top": null,
            "visibility": null,
            "width": null
          }
        },
        "8742ff6fbd2c47c3b9504f4572bbf610": {
          "model_module": "@jupyter-widgets/base",
          "model_name": "LayoutModel",
          "model_module_version": "1.2.0",
          "state": {
            "_model_module": "@jupyter-widgets/base",
            "_model_module_version": "1.2.0",
            "_model_name": "LayoutModel",
            "_view_count": null,
            "_view_module": "@jupyter-widgets/base",
            "_view_module_version": "1.2.0",
            "_view_name": "LayoutView",
            "align_content": null,
            "align_items": null,
            "align_self": null,
            "border": null,
            "bottom": null,
            "display": null,
            "flex": null,
            "flex_flow": null,
            "grid_area": null,
            "grid_auto_columns": null,
            "grid_auto_flow": null,
            "grid_auto_rows": null,
            "grid_column": null,
            "grid_gap": null,
            "grid_row": null,
            "grid_template_areas": null,
            "grid_template_columns": null,
            "grid_template_rows": null,
            "height": null,
            "justify_content": null,
            "justify_items": null,
            "left": null,
            "margin": null,
            "max_height": null,
            "max_width": null,
            "min_height": null,
            "min_width": null,
            "object_fit": null,
            "object_position": null,
            "order": null,
            "overflow": null,
            "overflow_x": null,
            "overflow_y": null,
            "padding": null,
            "right": null,
            "top": null,
            "visibility": null,
            "width": null
          }
        },
        "365b7f6976354427b5f6520d3443947d": {
          "model_module": "@jupyter-widgets/controls",
          "model_name": "DescriptionStyleModel",
          "model_module_version": "1.5.0",
          "state": {
            "_model_module": "@jupyter-widgets/controls",
            "_model_module_version": "1.5.0",
            "_model_name": "DescriptionStyleModel",
            "_view_count": null,
            "_view_module": "@jupyter-widgets/base",
            "_view_module_version": "1.2.0",
            "_view_name": "StyleView",
            "description_width": ""
          }
        },
        "870315a397e9434f8b44d593ad2d4948": {
          "model_module": "@jupyter-widgets/base",
          "model_name": "LayoutModel",
          "model_module_version": "1.2.0",
          "state": {
            "_model_module": "@jupyter-widgets/base",
            "_model_module_version": "1.2.0",
            "_model_name": "LayoutModel",
            "_view_count": null,
            "_view_module": "@jupyter-widgets/base",
            "_view_module_version": "1.2.0",
            "_view_name": "LayoutView",
            "align_content": null,
            "align_items": null,
            "align_self": null,
            "border": null,
            "bottom": null,
            "display": null,
            "flex": null,
            "flex_flow": null,
            "grid_area": null,
            "grid_auto_columns": null,
            "grid_auto_flow": null,
            "grid_auto_rows": null,
            "grid_column": null,
            "grid_gap": null,
            "grid_row": null,
            "grid_template_areas": null,
            "grid_template_columns": null,
            "grid_template_rows": null,
            "height": null,
            "justify_content": null,
            "justify_items": null,
            "left": null,
            "margin": null,
            "max_height": null,
            "max_width": null,
            "min_height": null,
            "min_width": null,
            "object_fit": null,
            "object_position": null,
            "order": null,
            "overflow": null,
            "overflow_x": null,
            "overflow_y": null,
            "padding": null,
            "right": null,
            "top": null,
            "visibility": null,
            "width": null
          }
        },
        "649609693dea4d159ae5c2dab2fc51eb": {
          "model_module": "@jupyter-widgets/controls",
          "model_name": "ProgressStyleModel",
          "model_module_version": "1.5.0",
          "state": {
            "_model_module": "@jupyter-widgets/controls",
            "_model_module_version": "1.5.0",
            "_model_name": "ProgressStyleModel",
            "_view_count": null,
            "_view_module": "@jupyter-widgets/base",
            "_view_module_version": "1.2.0",
            "_view_name": "StyleView",
            "bar_color": null,
            "description_width": ""
          }
        },
        "47199374a1da4ba0bb067babc6a7dc4c": {
          "model_module": "@jupyter-widgets/base",
          "model_name": "LayoutModel",
          "model_module_version": "1.2.0",
          "state": {
            "_model_module": "@jupyter-widgets/base",
            "_model_module_version": "1.2.0",
            "_model_name": "LayoutModel",
            "_view_count": null,
            "_view_module": "@jupyter-widgets/base",
            "_view_module_version": "1.2.0",
            "_view_name": "LayoutView",
            "align_content": null,
            "align_items": null,
            "align_self": null,
            "border": null,
            "bottom": null,
            "display": null,
            "flex": null,
            "flex_flow": null,
            "grid_area": null,
            "grid_auto_columns": null,
            "grid_auto_flow": null,
            "grid_auto_rows": null,
            "grid_column": null,
            "grid_gap": null,
            "grid_row": null,
            "grid_template_areas": null,
            "grid_template_columns": null,
            "grid_template_rows": null,
            "height": null,
            "justify_content": null,
            "justify_items": null,
            "left": null,
            "margin": null,
            "max_height": null,
            "max_width": null,
            "min_height": null,
            "min_width": null,
            "object_fit": null,
            "object_position": null,
            "order": null,
            "overflow": null,
            "overflow_x": null,
            "overflow_y": null,
            "padding": null,
            "right": null,
            "top": null,
            "visibility": null,
            "width": null
          }
        },
        "596dec52151041f29e236762f3155f49": {
          "model_module": "@jupyter-widgets/controls",
          "model_name": "DescriptionStyleModel",
          "model_module_version": "1.5.0",
          "state": {
            "_model_module": "@jupyter-widgets/controls",
            "_model_module_version": "1.5.0",
            "_model_name": "DescriptionStyleModel",
            "_view_count": null,
            "_view_module": "@jupyter-widgets/base",
            "_view_module_version": "1.2.0",
            "_view_name": "StyleView",
            "description_width": ""
          }
        },
        "5223f5cb64fa470daee1e4756e0e0f24": {
          "model_module": "@jupyter-widgets/controls",
          "model_name": "HBoxModel",
          "model_module_version": "1.5.0",
          "state": {
            "_dom_classes": [],
            "_model_module": "@jupyter-widgets/controls",
            "_model_module_version": "1.5.0",
            "_model_name": "HBoxModel",
            "_view_count": null,
            "_view_module": "@jupyter-widgets/controls",
            "_view_module_version": "1.5.0",
            "_view_name": "HBoxView",
            "box_style": "",
            "children": [
              "IPY_MODEL_329aa6295d6d44fe801e795edfc5f3fb",
              "IPY_MODEL_4ea32e5084d747759a18ae0295dc0ccf",
              "IPY_MODEL_bd2e34f261304cc88ee95f25d610092b"
            ],
            "layout": "IPY_MODEL_ac2ec659d6714d57ad5c5740088c3a5c"
          }
        },
        "329aa6295d6d44fe801e795edfc5f3fb": {
          "model_module": "@jupyter-widgets/controls",
          "model_name": "HTMLModel",
          "model_module_version": "1.5.0",
          "state": {
            "_dom_classes": [],
            "_model_module": "@jupyter-widgets/controls",
            "_model_module_version": "1.5.0",
            "_model_name": "HTMLModel",
            "_view_count": null,
            "_view_module": "@jupyter-widgets/controls",
            "_view_module_version": "1.5.0",
            "_view_name": "HTMLView",
            "description": "",
            "description_tooltip": null,
            "layout": "IPY_MODEL_48c81f652eef4a7999f9eb0474b9f55a",
            "placeholder": "​",
            "style": "IPY_MODEL_eb7c61d95e234998809e9918784bea28",
            "value": "Downloading https://huggingface.co/stanfordnlp/stanza-be/resolve/v1.10.0/models/pretrain/fasttextwiki.pt: 100%"
          }
        },
        "4ea32e5084d747759a18ae0295dc0ccf": {
          "model_module": "@jupyter-widgets/controls",
          "model_name": "FloatProgressModel",
          "model_module_version": "1.5.0",
          "state": {
            "_dom_classes": [],
            "_model_module": "@jupyter-widgets/controls",
            "_model_module_version": "1.5.0",
            "_model_name": "FloatProgressModel",
            "_view_count": null,
            "_view_module": "@jupyter-widgets/controls",
            "_view_module_version": "1.5.0",
            "_view_name": "ProgressView",
            "bar_style": "success",
            "description": "",
            "description_tooltip": null,
            "layout": "IPY_MODEL_0cb0b628a62e4a1c9fcbad1176eb6332",
            "max": 307999556,
            "min": 0,
            "orientation": "horizontal",
            "style": "IPY_MODEL_dc7ea1f696fc497bb6e4402c59b25c94",
            "value": 307999556
          }
        },
        "bd2e34f261304cc88ee95f25d610092b": {
          "model_module": "@jupyter-widgets/controls",
          "model_name": "HTMLModel",
          "model_module_version": "1.5.0",
          "state": {
            "_dom_classes": [],
            "_model_module": "@jupyter-widgets/controls",
            "_model_module_version": "1.5.0",
            "_model_name": "HTMLModel",
            "_view_count": null,
            "_view_module": "@jupyter-widgets/controls",
            "_view_module_version": "1.5.0",
            "_view_name": "HTMLView",
            "description": "",
            "description_tooltip": null,
            "layout": "IPY_MODEL_a89136d5d9394f939fa45d868d8d1e96",
            "placeholder": "​",
            "style": "IPY_MODEL_79449129e59c47a587047fc476ccafd5",
            "value": " 308M/308M [00:01&lt;00:00, 223MB/s]"
          }
        },
        "ac2ec659d6714d57ad5c5740088c3a5c": {
          "model_module": "@jupyter-widgets/base",
          "model_name": "LayoutModel",
          "model_module_version": "1.2.0",
          "state": {
            "_model_module": "@jupyter-widgets/base",
            "_model_module_version": "1.2.0",
            "_model_name": "LayoutModel",
            "_view_count": null,
            "_view_module": "@jupyter-widgets/base",
            "_view_module_version": "1.2.0",
            "_view_name": "LayoutView",
            "align_content": null,
            "align_items": null,
            "align_self": null,
            "border": null,
            "bottom": null,
            "display": null,
            "flex": null,
            "flex_flow": null,
            "grid_area": null,
            "grid_auto_columns": null,
            "grid_auto_flow": null,
            "grid_auto_rows": null,
            "grid_column": null,
            "grid_gap": null,
            "grid_row": null,
            "grid_template_areas": null,
            "grid_template_columns": null,
            "grid_template_rows": null,
            "height": null,
            "justify_content": null,
            "justify_items": null,
            "left": null,
            "margin": null,
            "max_height": null,
            "max_width": null,
            "min_height": null,
            "min_width": null,
            "object_fit": null,
            "object_position": null,
            "order": null,
            "overflow": null,
            "overflow_x": null,
            "overflow_y": null,
            "padding": null,
            "right": null,
            "top": null,
            "visibility": null,
            "width": null
          }
        },
        "48c81f652eef4a7999f9eb0474b9f55a": {
          "model_module": "@jupyter-widgets/base",
          "model_name": "LayoutModel",
          "model_module_version": "1.2.0",
          "state": {
            "_model_module": "@jupyter-widgets/base",
            "_model_module_version": "1.2.0",
            "_model_name": "LayoutModel",
            "_view_count": null,
            "_view_module": "@jupyter-widgets/base",
            "_view_module_version": "1.2.0",
            "_view_name": "LayoutView",
            "align_content": null,
            "align_items": null,
            "align_self": null,
            "border": null,
            "bottom": null,
            "display": null,
            "flex": null,
            "flex_flow": null,
            "grid_area": null,
            "grid_auto_columns": null,
            "grid_auto_flow": null,
            "grid_auto_rows": null,
            "grid_column": null,
            "grid_gap": null,
            "grid_row": null,
            "grid_template_areas": null,
            "grid_template_columns": null,
            "grid_template_rows": null,
            "height": null,
            "justify_content": null,
            "justify_items": null,
            "left": null,
            "margin": null,
            "max_height": null,
            "max_width": null,
            "min_height": null,
            "min_width": null,
            "object_fit": null,
            "object_position": null,
            "order": null,
            "overflow": null,
            "overflow_x": null,
            "overflow_y": null,
            "padding": null,
            "right": null,
            "top": null,
            "visibility": null,
            "width": null
          }
        },
        "eb7c61d95e234998809e9918784bea28": {
          "model_module": "@jupyter-widgets/controls",
          "model_name": "DescriptionStyleModel",
          "model_module_version": "1.5.0",
          "state": {
            "_model_module": "@jupyter-widgets/controls",
            "_model_module_version": "1.5.0",
            "_model_name": "DescriptionStyleModel",
            "_view_count": null,
            "_view_module": "@jupyter-widgets/base",
            "_view_module_version": "1.2.0",
            "_view_name": "StyleView",
            "description_width": ""
          }
        },
        "0cb0b628a62e4a1c9fcbad1176eb6332": {
          "model_module": "@jupyter-widgets/base",
          "model_name": "LayoutModel",
          "model_module_version": "1.2.0",
          "state": {
            "_model_module": "@jupyter-widgets/base",
            "_model_module_version": "1.2.0",
            "_model_name": "LayoutModel",
            "_view_count": null,
            "_view_module": "@jupyter-widgets/base",
            "_view_module_version": "1.2.0",
            "_view_name": "LayoutView",
            "align_content": null,
            "align_items": null,
            "align_self": null,
            "border": null,
            "bottom": null,
            "display": null,
            "flex": null,
            "flex_flow": null,
            "grid_area": null,
            "grid_auto_columns": null,
            "grid_auto_flow": null,
            "grid_auto_rows": null,
            "grid_column": null,
            "grid_gap": null,
            "grid_row": null,
            "grid_template_areas": null,
            "grid_template_columns": null,
            "grid_template_rows": null,
            "height": null,
            "justify_content": null,
            "justify_items": null,
            "left": null,
            "margin": null,
            "max_height": null,
            "max_width": null,
            "min_height": null,
            "min_width": null,
            "object_fit": null,
            "object_position": null,
            "order": null,
            "overflow": null,
            "overflow_x": null,
            "overflow_y": null,
            "padding": null,
            "right": null,
            "top": null,
            "visibility": null,
            "width": null
          }
        },
        "dc7ea1f696fc497bb6e4402c59b25c94": {
          "model_module": "@jupyter-widgets/controls",
          "model_name": "ProgressStyleModel",
          "model_module_version": "1.5.0",
          "state": {
            "_model_module": "@jupyter-widgets/controls",
            "_model_module_version": "1.5.0",
            "_model_name": "ProgressStyleModel",
            "_view_count": null,
            "_view_module": "@jupyter-widgets/base",
            "_view_module_version": "1.2.0",
            "_view_name": "StyleView",
            "bar_color": null,
            "description_width": ""
          }
        },
        "a89136d5d9394f939fa45d868d8d1e96": {
          "model_module": "@jupyter-widgets/base",
          "model_name": "LayoutModel",
          "model_module_version": "1.2.0",
          "state": {
            "_model_module": "@jupyter-widgets/base",
            "_model_module_version": "1.2.0",
            "_model_name": "LayoutModel",
            "_view_count": null,
            "_view_module": "@jupyter-widgets/base",
            "_view_module_version": "1.2.0",
            "_view_name": "LayoutView",
            "align_content": null,
            "align_items": null,
            "align_self": null,
            "border": null,
            "bottom": null,
            "display": null,
            "flex": null,
            "flex_flow": null,
            "grid_area": null,
            "grid_auto_columns": null,
            "grid_auto_flow": null,
            "grid_auto_rows": null,
            "grid_column": null,
            "grid_gap": null,
            "grid_row": null,
            "grid_template_areas": null,
            "grid_template_columns": null,
            "grid_template_rows": null,
            "height": null,
            "justify_content": null,
            "justify_items": null,
            "left": null,
            "margin": null,
            "max_height": null,
            "max_width": null,
            "min_height": null,
            "min_width": null,
            "object_fit": null,
            "object_position": null,
            "order": null,
            "overflow": null,
            "overflow_x": null,
            "overflow_y": null,
            "padding": null,
            "right": null,
            "top": null,
            "visibility": null,
            "width": null
          }
        },
        "79449129e59c47a587047fc476ccafd5": {
          "model_module": "@jupyter-widgets/controls",
          "model_name": "DescriptionStyleModel",
          "model_module_version": "1.5.0",
          "state": {
            "_model_module": "@jupyter-widgets/controls",
            "_model_module_version": "1.5.0",
            "_model_name": "DescriptionStyleModel",
            "_view_count": null,
            "_view_module": "@jupyter-widgets/base",
            "_view_module_version": "1.2.0",
            "_view_name": "StyleView",
            "description_width": ""
          }
        }
      }
    },
    "accelerator": "GPU"
  },
  "cells": [
    {
      "cell_type": "code",
      "execution_count": null,
      "metadata": {
        "id": "eiELzZbP-TXV",
        "collapsed": true
      },
      "outputs": [],
      "source": [
        "! pip install transformers torch"
      ]
    },
    {
      "cell_type": "code",
      "source": [
        "! pip install scikit-learn"
      ],
      "metadata": {
        "collapsed": true,
        "id": "X4UFFO8gn3cL"
      },
      "execution_count": null,
      "outputs": []
    },
    {
      "cell_type": "code",
      "source": [
        "import json\n",
        "import torch\n",
        "import pandas as pd\n",
        "from torch.utils.data import Dataset\n",
        "from transformers import AutoTokenizer, AutoModelForMaskedLM, Trainer, TrainingArguments, pipeline\n",
        "import random"
      ],
      "metadata": {
        "id": "E5zjxlbw-ZWe"
      },
      "execution_count": null,
      "outputs": []
    },
    {
      "cell_type": "code",
      "source": [
        "from sentence_transformers import SentenceTransformer"
      ],
      "metadata": {
        "id": "eTqP6glp-bck"
      },
      "execution_count": null,
      "outputs": []
    },
    {
      "cell_type": "code",
      "source": [
        "from sklearn.metrics.pairwise import cosine_similarity"
      ],
      "metadata": {
        "id": "IHA4UxYA-dzC"
      },
      "execution_count": null,
      "outputs": []
    },
    {
      "cell_type": "markdown",
      "source": [
        "# Дообучение модели"
      ],
      "metadata": {
        "id": "NFEabaWXB-T7"
      }
    },
    {
      "cell_type": "code",
      "source": [
        "def expand_mask(text, target_word, tokenizer):\n",
        "    target_tokens = tokenizer.tokenize(target_word)\n",
        "    num_target_tokens = len(target_tokens)\n",
        "\n",
        "    if \"[MASK]\" in text:\n",
        "        return text.replace(\"[MASK]\", \" \".join([\"[MASK]\"] * num_target_tokens), 1)\n",
        "    else:\n",
        "        raise ValueError(f\"Ошибка: в тексте нет [MASK] → {text}\")"
      ],
      "metadata": {
        "id": "UEV2fauh-gbM"
      },
      "execution_count": null,
      "outputs": []
    },
    {
      "cell_type": "code",
      "source": [
        "class SynonymDataset(Dataset):\n",
        "    def __init__(self, data, tokenizer, max_length=128):\n",
        "        self.data = data\n",
        "        self.tokenizer = tokenizer\n",
        "        self.max_length = max_length\n",
        "\n",
        "    def __len__(self):\n",
        "        return len(self.data)\n",
        "\n",
        "    def __getitem__(self, idx):\n",
        "        item = self.data[idx]\n",
        "        text = item[\"context\"]\n",
        "        target_word = item[\"word\"]\n",
        "\n",
        "        if \"[MASK]\" not in text:\n",
        "            raise ValueError(f\"Ошибка: в тексте нет [MASK] → {text}\")\n",
        "\n",
        "        text = expand_mask(text, target_word, self.tokenizer)\n",
        "        encoding = self.tokenizer(\n",
        "            text, padding=\"max_length\", truncation=True, max_length=self.max_length, return_tensors=\"pt\"\n",
        "        )\n",
        "\n",
        "        labels = torch.full_like(encoding[\"input_ids\"], -100)\n",
        "\n",
        "        mask_idx = (encoding[\"input_ids\"] == self.tokenizer.mask_token_id).nonzero(as_tuple=True)[1]\n",
        "        target_ids = self.tokenizer.encode(target_word, add_special_tokens=False)\n",
        "\n",
        "        if len(mask_idx) != len(target_ids):\n",
        "            raise ValueError(f\"Ошибка маскировки: {len(mask_idx)} масок, но '{target_word}' = {len(target_ids)} токенов\")\n",
        "\n",
        "        labels[0, mask_idx] = torch.tensor(target_ids)\n",
        "\n",
        "        return {\n",
        "            \"input_ids\": encoding[\"input_ids\"].squeeze(),\n",
        "            \"attention_mask\": encoding[\"attention_mask\"].squeeze(),\n",
        "            \"labels\": labels.squeeze()\n",
        "        }"
      ],
      "metadata": {
        "id": "UxtkINQacANg"
      },
      "execution_count": null,
      "outputs": []
    },
    {
      "cell_type": "code",
      "source": [
        "def train_bert(json_file, model_name=\"KoichiYasuoka/roberta-small-belarusian\", output_dir=\"./bert-synonyms\"):\n",
        "    with open(json_file, \"r\", encoding=\"utf-8\") as f:\n",
        "        data = json.load(f)\n",
        "\n",
        "    tokenizer = AutoTokenizer.from_pretrained(model_name)\n",
        "    dataset = SynonymDataset(data, tokenizer)\n",
        "    model = AutoModelForMaskedLM.from_pretrained(model_name)\n",
        "\n",
        "    training_args = TrainingArguments(\n",
        "        output_dir=output_dir,\n",
        "        evaluation_strategy=\"no\",\n",
        "        save_strategy=\"steps\",\n",
        "        save_steps=500,\n",
        "        logging_dir=\"./logs\",\n",
        "        logging_steps=100,\n",
        "        num_train_epochs=6,\n",
        "        per_device_train_batch_size=16,\n",
        "        learning_rate=5e-5,\n",
        "        report_to=\"none\"\n",
        "    )\n",
        "\n",
        "    trainer = Trainer(model=model, args=training_args, train_dataset=dataset)\n",
        "    trainer.train()\n",
        "\n",
        "    model.save_pretrained(output_dir)\n",
        "    tokenizer.save_pretrained(output_dir)\n",
        "\n",
        "\n",
        "train_bert(\"train_data.json\")"
      ],
      "metadata": {
        "id": "IbCClpqvveWT"
      },
      "execution_count": null,
      "outputs": []
    },
    {
      "cell_type": "code",
      "source": [
        "! pip install stanza"
      ],
      "metadata": {
        "collapsed": true,
        "id": "NwYeQJSxWTAl"
      },
      "execution_count": null,
      "outputs": []
    },
    {
      "cell_type": "code",
      "source": [
        "import stanza\n",
        "\n",
        "nlp = stanza.Pipeline(lang='be', processors='tokenize,pos,lemma')"
      ],
      "metadata": {
        "colab": {
          "base_uri": "https://localhost:8080/",
          "height": 615,
          "referenced_widgets": [
            "eacfe649ea1b4f33b92c96322791c62b",
            "f090405c72474d7fbdcba706d20ba904",
            "db8bce5bddd04dc7b41439ce2c6b3081",
            "e0fd4a1277ef4923ae642ade1fae7e31",
            "78fd251c5ccd41c19966fd3c4d358c79",
            "825e6151e1fa4518bb3ea21927f97a2f",
            "422b346a6a4a4ec5affa7b4bbe24ff35",
            "27219fa70ebe4baba48d9814b42792e8",
            "20fcff103fd94659913ca0b403ef2f0a",
            "f26672e21be74e49a4d19f64fec903ae",
            "d41e4b4df488444cb7fb7216585bffe9",
            "7bab1e2f31dd4d9fbcfdd0959e65e2bd",
            "f1a147d725b54f6ea337927a5fcd7ae1",
            "e3500ba3a7f541178ef95d1740ad3f5f",
            "4bd6f420ef4f4d398a3584563b1512f7",
            "b8363e66298547b08bbf4297189d47d3",
            "1d0b626b755e4f18a052049f3847d9c5",
            "f41ffe138bee45f298fb102344ff336d",
            "594ce71123654afe9a78a068b2cb7797",
            "9c3f73d4585a4e75827af6cd1a7f6a76",
            "a7c8eefbb7994215879639b989e15d47",
            "8cd8ea5500e64c5d83df9dfa904a1921",
            "1d5d243ff8694d41813df75d3a44a028",
            "f9fd512925ca41b68ecbdf125c62f0ed",
            "1ddbcd5b8c05497eb929d22afd6412cc",
            "bfcbfecd49434b469cf24978a42bd403",
            "dbf67954105a4db4bffebf43d96e856e",
            "2dec44520bce45ceaf472254a7d05de5",
            "434acf0ee40647f09637f120a89fb516",
            "74db2e157202488caf000d29414ae26d",
            "73ccd288e0e34e6982e4ac937ef1d516",
            "aeea7a937bcf41e09ee0effddec2b557",
            "1bbcabb8f92b42a29496e83f079796db",
            "bd25c7a7a7394b2cb1da9e64554741d6",
            "457920a9be6a46e9a25570b0f71841e9",
            "2360698e520940dd9c55b96ccc98fff8",
            "b8c7d26c43f648ab962c039a55cdeb2f",
            "7d54d164ffe94e42a26b85c19e062539",
            "8742ff6fbd2c47c3b9504f4572bbf610",
            "365b7f6976354427b5f6520d3443947d",
            "870315a397e9434f8b44d593ad2d4948",
            "649609693dea4d159ae5c2dab2fc51eb",
            "47199374a1da4ba0bb067babc6a7dc4c",
            "596dec52151041f29e236762f3155f49",
            "5223f5cb64fa470daee1e4756e0e0f24",
            "329aa6295d6d44fe801e795edfc5f3fb",
            "4ea32e5084d747759a18ae0295dc0ccf",
            "bd2e34f261304cc88ee95f25d610092b",
            "ac2ec659d6714d57ad5c5740088c3a5c",
            "48c81f652eef4a7999f9eb0474b9f55a",
            "eb7c61d95e234998809e9918784bea28",
            "0cb0b628a62e4a1c9fcbad1176eb6332",
            "dc7ea1f696fc497bb6e4402c59b25c94",
            "a89136d5d9394f939fa45d868d8d1e96",
            "79449129e59c47a587047fc476ccafd5"
          ]
        },
        "id": "4XPwXYUtWS79",
        "outputId": "3a8a11b8-5d5f-4660-b0d8-84e4970759ed"
      },
      "execution_count": null,
      "outputs": [
        {
          "output_type": "stream",
          "name": "stderr",
          "text": [
            "INFO:stanza:Checking for updates to resources.json in case models have been updated.  Note: this behavior can be turned off with download_method=None or download_method=DownloadMethod.REUSE_RESOURCES\n"
          ]
        },
        {
          "output_type": "display_data",
          "data": {
            "text/plain": [
              "Downloading https://raw.githubusercontent.com/stanfordnlp/stanza-resources/main/resources_1.10.0.json:   0%|  …"
            ],
            "application/vnd.jupyter.widget-view+json": {
              "version_major": 2,
              "version_minor": 0,
              "model_id": "eacfe649ea1b4f33b92c96322791c62b"
            }
          },
          "metadata": {}
        },
        {
          "output_type": "stream",
          "name": "stderr",
          "text": [
            "INFO:stanza:Downloaded file to /root/stanza_resources/resources.json\n"
          ]
        },
        {
          "output_type": "display_data",
          "data": {
            "text/plain": [
              "Downloading https://huggingface.co/stanfordnlp/stanza-be/resolve/v1.10.0/models/tokenize/hse.pt:   0%|        …"
            ],
            "application/vnd.jupyter.widget-view+json": {
              "version_major": 2,
              "version_minor": 0,
              "model_id": "7bab1e2f31dd4d9fbcfdd0959e65e2bd"
            }
          },
          "metadata": {}
        },
        {
          "output_type": "display_data",
          "data": {
            "text/plain": [
              "Downloading https://huggingface.co/stanfordnlp/stanza-be/resolve/v1.10.0/models/pos/hse_nocharlm.pt:   0%|    …"
            ],
            "application/vnd.jupyter.widget-view+json": {
              "version_major": 2,
              "version_minor": 0,
              "model_id": "1d5d243ff8694d41813df75d3a44a028"
            }
          },
          "metadata": {}
        },
        {
          "output_type": "display_data",
          "data": {
            "text/plain": [
              "Downloading https://huggingface.co/stanfordnlp/stanza-be/resolve/v1.10.0/models/lemma/hse_nocharlm.pt:   0%|  …"
            ],
            "application/vnd.jupyter.widget-view+json": {
              "version_major": 2,
              "version_minor": 0,
              "model_id": "bd25c7a7a7394b2cb1da9e64554741d6"
            }
          },
          "metadata": {}
        },
        {
          "output_type": "display_data",
          "data": {
            "text/plain": [
              "Downloading https://huggingface.co/stanfordnlp/stanza-be/resolve/v1.10.0/models/pretrain/fasttextwiki.pt:   0%…"
            ],
            "application/vnd.jupyter.widget-view+json": {
              "version_major": 2,
              "version_minor": 0,
              "model_id": "5223f5cb64fa470daee1e4756e0e0f24"
            }
          },
          "metadata": {}
        },
        {
          "output_type": "stream",
          "name": "stderr",
          "text": [
            "INFO:stanza:Loading these models for language: be (Belarusian):\n",
            "============================\n",
            "| Processor | Package      |\n",
            "----------------------------\n",
            "| tokenize  | hse          |\n",
            "| pos       | hse_nocharlm |\n",
            "| lemma     | hse_nocharlm |\n",
            "============================\n",
            "\n",
            "INFO:stanza:Using device: cuda\n",
            "INFO:stanza:Loading: tokenize\n",
            "INFO:stanza:Loading: pos\n",
            "INFO:stanza:Loading: lemma\n",
            "INFO:stanza:Done loading processors!\n"
          ]
        }
      ]
    },
    {
      "cell_type": "code",
      "source": [
        "def lemmatize(word):\n",
        "    doc = nlp(word)\n",
        "    for sentence in doc.sentences:\n",
        "        for token in sentence.tokens:\n",
        "            return token.words[0].lemma\n",
        "    return word"
      ],
      "metadata": {
        "id": "uKAnBlSQzQTd"
      },
      "execution_count": null,
      "outputs": []
    },
    {
      "cell_type": "markdown",
      "source": [
        "# Загрузка словаря"
      ],
      "metadata": {
        "id": "y6nJiJuNCFud"
      }
    },
    {
      "cell_type": "code",
      "source": [
        "from collections import defaultdict\n",
        "\n",
        "def load_synonyms_from_excel(file_path):\n",
        "    df = pd.read_excel(file_path)\n",
        "    synonym_dict = defaultdict(list)\n",
        "    for _, row in df.iterrows():\n",
        "        word = str(row[0]).strip()\n",
        "        lemma = lemmatize(word)\n",
        "        synonyms = str(row[1]).split(',')\n",
        "        synonym_dict[lemma].extend(s.strip() for s in synonyms if s.strip())\n",
        "    return synonym_dict"
      ],
      "metadata": {
        "id": "nCsVaE-Q1B_J"
      },
      "execution_count": null,
      "outputs": []
    },
    {
      "cell_type": "code",
      "source": [
        "synonym_dict = load_synonyms_from_excel(\"synonyms_table_result.xlsx\")"
      ],
      "metadata": {
        "id": "jR4AJZA8hFrn"
      },
      "execution_count": null,
      "outputs": []
    },
    {
      "cell_type": "markdown",
      "source": [
        "# Ранжирование предсказаний модели"
      ],
      "metadata": {
        "id": "PeNCGD78CIGg"
      }
    },
    {
      "cell_type": "code",
      "source": [
        "def find_masked_index(tokens):\n",
        "    try:\n",
        "        return tokens.index('[MASK]')\n",
        "    except ValueError:\n",
        "        raise ValueError(\"Токен [MASK] не найден в списке токенов.\")\n",
        "\n",
        "\n",
        "# --- Получение предсказаний и добавление синонимов из словаря ---\n",
        "def get_masked_predictions(sentence, original_word, synonym_dict=None, top_k=100):\n",
        "    encoding = tokenizer.encode(sentence, return_tensors=\"pt\")\n",
        "    tokens = tokenizer.convert_ids_to_tokens(encoding[0])\n",
        "\n",
        "    masked_index = find_masked_index(tokens)\n",
        "\n",
        "    with torch.no_grad():\n",
        "        outputs = model(input_ids=encoding)\n",
        "        predictions = outputs.logits\n",
        "\n",
        "    predicted_ids = torch.topk(predictions[0, masked_index], top_k).indices.numpy()\n",
        "    predicted_tokens = tokenizer.convert_ids_to_tokens(predicted_ids)\n",
        "\n",
        "    filtered_words = [word for word in predicted_tokens if word.isalpha() and len(word) >= 3]\n",
        "\n",
        "    if synonym_dict:\n",
        "        lemma = lemmatize(original_word)\n",
        "        if lemma in synonym_dict:\n",
        "            extra_synonyms = synonym_dict[lemma]\n",
        "            filtered_words = list(set(filtered_words + extra_synonyms))\n",
        "\n",
        "    return filtered_words\n",
        "\n",
        "\n",
        "# --- Ранжирование по сходству предложений ---\n",
        "def rank_by_similarity(original_sentence, predicted_tokens, original_word):\n",
        "    original_sentence_with_original_word = original_sentence.replace('[MASK]', original_word)\n",
        "    original_vector = sentence_model.encode(original_sentence_with_original_word)\n",
        "\n",
        "    sentences_with_predictions = [\n",
        "        original_sentence.replace('[MASK]', token) for token in predicted_tokens\n",
        "    ]\n",
        "    prediction_vectors = sentence_model.encode(sentences_with_predictions)\n",
        "\n",
        "    similarities = cosine_similarity(prediction_vectors, [original_vector])\n",
        "\n",
        "    ranked_suggestions = sorted(\n",
        "        zip(predicted_tokens, similarities[:, 0]),\n",
        "        key=lambda x: x[1],\n",
        "        reverse=True\n",
        "    )\n",
        "\n",
        "    return ranked_suggestions\n",
        "\n",
        "\n",
        "model_path = \"./bert-synonyms\"\n",
        "tokenizer = AutoTokenizer.from_pretrained(\"./bert-synonyms\")\n",
        "model = AutoModelForMaskedLM.from_pretrained(model_path)\n",
        "sentence_model = SentenceTransformer(\"sentence-transformers/LaBSE\")"
      ],
      "metadata": {
        "id": "Din1FnlWzQQa"
      },
      "execution_count": null,
      "outputs": []
    },
    {
      "cell_type": "code",
      "source": [
        "synonym_dict"
      ],
      "metadata": {
        "id": "BSMdGQ681xY4",
        "collapsed": true
      },
      "execution_count": null,
      "outputs": []
    },
    {
      "cell_type": "code",
      "source": [
        "sentence = \"Была ў Фёдара яшчэ адна рэдкая [MASK]: па сваёй уласнай ініцыятыве ён ніколі нікога не падвозіў, не падбіраў.\"\n",
        "original_word = \"асаблівасць\"\n",
        "\n",
        "predicted_tokens = get_masked_predictions(sentence, original_word, synonym_dict=synonym_dict)\n",
        "ranked_suggestions = rank_by_similarity(sentence, predicted_tokens, original_word)\n",
        "\n",
        "for word, similarity in ranked_suggestions[:10]:\n",
        "    print(f\"{word}: {similarity:.4f}\")"
      ],
      "metadata": {
        "colab": {
          "base_uri": "https://localhost:8080/"
        },
        "id": "bkkLQLOWEUMj",
        "outputId": "2e054157-cac7-41cf-d594-78048f4694c7"
      },
      "execution_count": null,
      "outputs": [
        {
          "output_type": "stream",
          "name": "stdout",
          "text": [
            "асаблівасць: 1.0000\n",
            "адметнасць: 0.9986\n",
            "характарыстыка: 0.9974\n",
            "уласцівасць: 0.9972\n",
            "своеасаблівасць: 0.9961\n",
            "характар: 0.9927\n",
            "спецыфіка: 0.9919\n",
            "атрыбут: 0.9912\n",
            "прыкмета: 0.9900\n",
            "рыса: 0.9897\n"
          ]
        }
      ]
    },
    {
      "cell_type": "code",
      "source": [
        "sentence = \"Жанчына была ўпэўненая ў тым, хто віноўнік гэтай [MASK].\"\n",
        "original_word = \"бяды\"\n",
        "\n",
        "predicted_tokens = get_masked_predictions(sentence, original_word, synonym_dict=synonym_dict)\n",
        "ranked_suggestions = rank_by_similarity(sentence, predicted_tokens, original_word)\n",
        "\n",
        "for word, similarity in ranked_suggestions[:10]:\n",
        "    print(f\"{word}: {similarity:.4f}\")"
      ],
      "metadata": {
        "colab": {
          "base_uri": "https://localhost:8080/"
        },
        "id": "h2xVDVcdETY7",
        "outputId": "006d8c6d-aa2a-46d9-dc86-5c1ffc2a0674"
      },
      "execution_count": null,
      "outputs": [
        {
          "output_type": "stream",
          "name": "stdout",
          "text": [
            "бяды: 1.0000\n",
            "няшчасце: 0.9825\n",
            "гора: 0.9773\n",
            "праблемы: 0.9764\n",
            "нягода: 0.9747\n",
            "нядоля: 0.9712\n",
            "бяздолле: 0.9659\n",
            "зло: 0.9618\n",
            "справы: 0.9615\n",
            "справай: 0.9599\n"
          ]
        }
      ]
    },
    {
      "cell_type": "code",
      "source": [
        "sentence = \"Але ўсё гэта можа адбыцца толькі тады, калі нашы [MASK] збудуцца.\"\n",
        "original_word = \"прадбачанні\"\n",
        "\n",
        "predicted_tokens = get_masked_predictions(sentence, original_word, synonym_dict=synonym_dict)\n",
        "ranked_suggestions = rank_by_similarity(sentence, predicted_tokens, original_word)\n",
        "\n",
        "for word, similarity in ranked_suggestions[:10]:\n",
        "    print(f\"{word}: {similarity:.4f}\")"
      ],
      "metadata": {
        "colab": {
          "base_uri": "https://localhost:8080/"
        },
        "id": "WxXP4_pLFg9w",
        "outputId": "8f0357c9-00f0-4f65-da28-78a576c13149"
      },
      "execution_count": null,
      "outputs": [
        {
          "output_type": "stream",
          "name": "stdout",
          "text": [
            "прадгаданне: 0.9848\n",
            "прадказанне: 0.9828\n",
            "прароцтва: 0.9797\n",
            "прагноз: 0.9695\n",
            "пажаданні: 0.9641\n",
            "чаканні: 0.9625\n",
            "просьбы: 0.9506\n",
            "жаданні: 0.9473\n",
            "мары: 0.9471\n",
            "прапановы: 0.9435\n"
          ]
        }
      ]
    },
    {
      "cell_type": "code",
      "source": [
        "sentence = \"Пытанні, прыспешваючы, падганяючы адно другое, адгучалі, і ў пакоі надоўга ўсталявалася [MASK].\"\n",
        "original_word = \"цішыня\"\n",
        "\n",
        "predicted_tokens = get_masked_predictions(sentence, original_word, synonym_dict=synonym_dict)\n",
        "ranked_suggestions = rank_by_similarity(sentence, predicted_tokens, original_word)\n",
        "\n",
        "for word, similarity in ranked_suggestions[:10]:\n",
        "    print(f\"{word}: {similarity:.4f}\")"
      ],
      "metadata": {
        "colab": {
          "base_uri": "https://localhost:8080/"
        },
        "id": "vOupinRBGzRj",
        "outputId": "67e206fc-0ad8-418a-c980-a26072d48a36"
      },
      "execution_count": null,
      "outputs": [
        {
          "output_type": "stream",
          "name": "stdout",
          "text": [
            "ціша: 0.9924\n",
            "ціш: 0.9812\n",
            "супакой: 0.9797\n",
            "спакой: 0.9782\n",
            "спакойлівасць: 0.9759\n",
            "бязгучнасць: 0.9696\n",
            "галасаванне: 0.9628\n",
            "хваляванне: 0.9607\n",
            "мяжа: 0.9547\n",
            "пуста: 0.9530\n"
          ]
        }
      ]
    },
    {
      "cell_type": "code",
      "source": [
        "sentence = \"[MASK] у сваім новым рамане «Ноч», які пабачыць свет на пачатку восені, прапаноўвае сваю версію таго, што зробіцца з нашай краінай, калі такое адбудзецца на самай справе.\"\n",
        "original_word = \"Пісьменнік\"\n",
        "\n",
        "predicted_tokens = get_masked_predictions(sentence, original_word, synonym_dict=synonym_dict)\n",
        "ranked_suggestions = rank_by_similarity(sentence, predicted_tokens, original_word)\n",
        "\n",
        "for word, similarity in ranked_suggestions[:10]:\n",
        "    print(f\"{word}: {similarity:.4f}\")"
      ],
      "metadata": {
        "colab": {
          "base_uri": "https://localhost:8080/"
        },
        "id": "Zm9ItkWFHlrG",
        "outputId": "8a9b2ec0-6375-4877-c1fd-b2bd37e2e240"
      },
      "execution_count": null,
      "outputs": [
        {
          "output_type": "stream",
          "name": "stdout",
          "text": [
            "пісьменнік: 0.9950\n",
            "літаратар: 0.9945\n",
            "аўтар: 0.9916\n",
            "паэт: 0.9888\n",
            "стваральнік: 0.9841\n",
            "мастак слова: 0.9798\n",
            "журналіст: 0.9765\n",
            "чытач: 0.9750\n",
            "госць: 0.9722\n",
            "сюжэт: 0.9719\n"
          ]
        }
      ]
    },
    {
      "cell_type": "code",
      "source": [
        "sentence = \"Хочаце самастойна смела адкрываць візы, хутка шукаць [MASK] авіяквіткі, атрымліваць навіны пра распродажы авіякампаніяў?\"\n",
        "original_word = \"танныя\"\n",
        "\n",
        "predicted_tokens = get_masked_predictions(sentence, original_word, synonym_dict=synonym_dict)\n",
        "ranked_suggestions = rank_by_similarity(sentence, predicted_tokens, original_word)\n",
        "\n",
        "for word, similarity in ranked_suggestions[:10]:\n",
        "    print(f\"{word}: {similarity:.4f}\")"
      ],
      "metadata": {
        "id": "0pzWhOSFebiP",
        "colab": {
          "base_uri": "https://localhost:8080/"
        },
        "outputId": "3e678514-358b-46b2-e1ab-b52fa106ea62"
      },
      "execution_count": null,
      "outputs": [
        {
          "output_type": "stream",
          "name": "stdout",
          "text": [
            "танныя: 1.0000\n",
            "дарагія: 0.9960\n",
            "недарагі: 0.9932\n",
            "даступны: 0.9890\n",
            "простыя: 0.9867\n",
            "сабе: 0.9860\n",
            "гандлёвыя: 0.9859\n",
            "бясплатныя: 0.9859\n",
            "даступныя: 0.9852\n",
            "рэдкія: 0.9849\n"
          ]
        }
      ]
    },
    {
      "cell_type": "code",
      "source": [
        "sentence = \"Ён гатовы [MASK] у гэтым ключы любыя праблемы, што ўзніклі.\"\n",
        "original_word = \"абмеркаваць\"\n",
        "\n",
        "predicted_tokens = get_masked_predictions(sentence, original_word, synonym_dict=synonym_dict)\n",
        "ranked_suggestions = rank_by_similarity(sentence, predicted_tokens, original_word)\n",
        "\n",
        "for word, similarity in ranked_suggestions[:10]:\n",
        "    print(f\"{word}: {similarity:.4f}\")"
      ],
      "metadata": {
        "colab": {
          "base_uri": "https://localhost:8080/"
        },
        "id": "aJLtTJ5ptnjS",
        "outputId": "309d5d78-04d4-4323-eed1-45e72ca13784"
      },
      "execution_count": null,
      "outputs": [
        {
          "output_type": "stream",
          "name": "stdout",
          "text": [
            "абмеркаваць: 1.0000\n",
            "абмяркоўваць: 0.9934\n",
            "абгаварыць: 0.9904\n",
            "абдумаць: 0.9581\n",
            "разглядаць: 0.9487\n",
            "разгледзець: 0.9484\n",
            "вырашаць: 0.9463\n",
            "выказваць: 0.9443\n",
            "выказаць: 0.9406\n",
            "вырашыць: 0.9403\n"
          ]
        }
      ]
    },
    {
      "cell_type": "code",
      "source": [
        "sentence = \"Ён [MASK] пакуты, ён супраціўляўся сьмерці.\"\n",
        "original_word = \"цярпеў\"\n",
        "\n",
        "predicted_tokens = get_masked_predictions(sentence, original_word, synonym_dict=synonym_dict)\n",
        "ranked_suggestions = rank_by_similarity(sentence, predicted_tokens, original_word)\n",
        "\n",
        "for word, similarity in ranked_suggestions[:10]:\n",
        "    print(f\"{word}: {similarity:.4f}\")"
      ],
      "metadata": {
        "colab": {
          "base_uri": "https://localhost:8080/"
        },
        "id": "DpNt6KMRvGDg",
        "outputId": "29d56334-96dd-479f-f420-9f6ca4926b27"
      },
      "execution_count": null,
      "outputs": [
        {
          "output_type": "stream",
          "name": "stdout",
          "text": [
            "пацярпеў: 0.9960\n",
            "зазнаваць: 0.9867\n",
            "праходзіў: 0.9827\n",
            "пражыў: 0.9827\n",
            "трымаў: 0.9806\n",
            "атрымаў: 0.9806\n",
            "правёў: 0.9802\n",
            "прайшоў: 0.9797\n",
            "атрымліваў: 0.9777\n",
            "насіў: 0.9761\n"
          ]
        }
      ]
    },
    {
      "cell_type": "code",
      "source": [
        "sentence = \"У Менску [MASK] адкрылі памятны знак у гонар братоў Луцкевічаў.\"\n",
        "original_word = \"ўрачыста\"\n",
        "\n",
        "predicted_tokens = get_masked_predictions(sentence, original_word, synonym_dict=synonym_dict)\n",
        "ranked_suggestions = rank_by_similarity(sentence, predicted_tokens, original_word)\n",
        "\n",
        "for word, similarity in ranked_suggestions[:10]:\n",
        "    print(f\"{word}: {similarity:.4f}\")"
      ],
      "metadata": {
        "colab": {
          "base_uri": "https://localhost:8080/"
        },
        "id": "FIdQqeqdqWMV",
        "outputId": "9d921afc-dc9c-4686-a75c-123f10365efc"
      },
      "execution_count": null,
      "outputs": [
        {
          "output_type": "stream",
          "name": "stdout",
          "text": [
            "ўрачыста: 1.0000\n",
            "урачыста: 0.9949\n",
            "святочна: 0.9884\n",
            "па-святочнаму: 0.9866\n",
            "велічна: 0.9815\n",
            "масава: 0.9814\n",
            "годна: 0.9794\n",
            "шырока: 0.9792\n",
            "афіцыйна: 0.9770\n",
            "спас: 0.9701\n"
          ]
        }
      ]
    },
    {
      "cell_type": "code",
      "source": [
        "sentence = \"Юнакі і дзяўчаты не павінны [MASK] ставіцца да таго, што адбываецца ў краіне.\"\n",
        "original_word = \"абыякава\"\n",
        "\n",
        "predicted_tokens = get_masked_predictions(sentence, original_word, synonym_dict=synonym_dict)\n",
        "ranked_suggestions = rank_by_similarity(sentence, predicted_tokens, original_word)\n",
        "\n",
        "for word, similarity in ranked_suggestions[:10]:\n",
        "    print(f\"{word}: {similarity:.4f}\")"
      ],
      "metadata": {
        "colab": {
          "base_uri": "https://localhost:8080/"
        },
        "id": "s22vNv--rGWy",
        "outputId": "39481711-f176-42f5-9c36-33160bfbc299"
      },
      "execution_count": null,
      "outputs": [
        {
          "output_type": "stream",
          "name": "stdout",
          "text": [
            "абыякава: 1.0000\n",
            "безудзельна: 0.9898\n",
            "безуважна: 0.9886\n",
            "незацікаўлена: 0.9866\n",
            "бестурботна: 0.9864\n",
            "бесклапотна: 0.9854\n",
            "бесцікаўна: 0.9833\n",
            "адчужана: 0.9823\n",
            "няўцямна: 0.9800\n",
            "бясстрасна: 0.9799\n"
          ]
        }
      ]
    }
  ]
}